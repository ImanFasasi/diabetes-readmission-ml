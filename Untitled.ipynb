{
 "cells": [
  {
   "cell_type": "code",
   "execution_count": 3,
   "id": "9838fb4a-8bf1-4832-b2c9-3b4e915f208d",
   "metadata": {},
   "outputs": [
    {
     "name": "stderr",
     "output_type": "stream",
     "text": [
      "2024-12-21 19:28:57.619 \n",
      "  \u001b[33m\u001b[1mWarning:\u001b[0m to view this Streamlit app on a browser, run it with the following\n",
      "  command:\n",
      "\n",
      "    streamlit run /opt/anaconda3/lib/python3.12/site-packages/ipykernel_launcher.py [ARGUMENTS]\n",
      "2024-12-21 19:28:57.620 Session state does not function when running a script without `streamlit run`\n"
     ]
    },
    {
     "data": {
      "text/plain": [
       "DeltaGenerator(_root_container=1, _parent=DeltaGenerator())"
      ]
     },
     "execution_count": 3,
     "metadata": {},
     "output_type": "execute_result"
    }
   ],
   "source": [
    "import streamlit as st\n",
    "import joblib\n",
    "import pandas as pd\n",
    "\n",
    "# Load the trained model\n",
    "model = joblib.load(\"stacking_model.pkl\")\n",
    "\n",
    "# Define the features used for training\n",
    "features = ['encounter_id', 'patient_nbr', 'race', 'gender', 'age', 'weight', \n",
    "            'admission_type_id', 'discharge_disposition_id', 'admission_source_id', \n",
    "            'time_in_hospital', 'payer_code', 'medical_specialty', 'num_lab_procedures', \n",
    "            'num_procedures', 'num_medications', 'number_outpatient', 'number_emergency', \n",
    "            'number_inpatient', 'diag_1', 'diag_2', 'diag_3', 'number_diagnoses', \n",
    "            'max_glu_serum', 'A1Cresult', 'metformin', 'repaglinide', 'nateglinide', \n",
    "            'chlorpropamide', 'glimepiride', 'acetohexamide', 'glipizide', 'glyburide', \n",
    "            'tolbutamide', 'pioglitazone', 'rosiglitazone', 'acarbose', 'miglitol', \n",
    "            'troglitazone', 'tolazamide', 'examide', 'citoglipton', 'insulin', \n",
    "            'glyburide-metformin', 'glipizide-metformin', 'glimepiride-pioglitazone', \n",
    "            'metformin-rosiglitazone', 'metformin-pioglitazone', 'change', 'diabetesMed', \n",
    "            'admission_type_description', 'weight_flag', 'outlier_flag']\n",
    "\n",
    "# Streamlit app title\n",
    "st.title(\"Diabetes Readmission Prediction\")\n",
    "\n",
    "# Input Form for Features\n",
    "st.header(\"Enter Patient Details\")\n",
    "\n",
    "# Generate inputs dynamically for all features\n",
    "user_inputs = {}\n",
    "for feature in features:\n",
    "    if feature in ['age', 'time_in_hospital', 'num_lab_procedures', 'num_medications', \n",
    "                   'number_outpatient', 'number_emergency', 'number_inpatient', 'number_diagnoses']:\n",
    "        user_inputs[feature] = st.number_input(f\"{feature}:\", min_value=0, value=0)\n",
    "    else:\n",
    "        user_inputs[feature] = st.text_input(f\"{feature}:\")\n",
    "\n",
    "# Button to predict\n",
    "if st.button(\"Predict Readmission\"):\n",
    "    # Convert user inputs to DataFrame\n",
    "    input_data = pd.DataFrame([user_inputs])\n",
    "    \n",
    "    # Ensure correct feature order\n",
    "    input_data = input_data[features]\n",
    "    \n",
    "    # Make predictions\n",
    "    prediction = model.predict(input_data)\n",
    "    probabilities = model.predict_proba(input_data)\n",
    "    \n",
    "    # Display results\n",
    "    st.subheader(\"Prediction Result\")\n",
    "    st.write(f\"Readmission Prediction: {'Yes' if prediction[0] == 1 else 'No'}\")\n",
    "    st.write(f\"Prediction Probabilities: {probabilities[0]}\")\n",
    "\n",
    "# Footer\n",
    "st.sidebar.info(\"This app predicts the likelihood of readmission for diabetic patients.\")"
   ]
  },
  {
   "cell_type": "code",
   "execution_count": null,
   "id": "668f5cac-6798-4bb8-8097-110b92bc32df",
   "metadata": {},
   "outputs": [],
   "source": []
  }
 ],
 "metadata": {
  "kernelspec": {
   "display_name": "Python 3 (ipykernel)",
   "language": "python",
   "name": "python3"
  },
  "language_info": {
   "codemirror_mode": {
    "name": "ipython",
    "version": 3
   },
   "file_extension": ".py",
   "mimetype": "text/x-python",
   "name": "python",
   "nbconvert_exporter": "python",
   "pygments_lexer": "ipython3",
   "version": "3.12.7"
  }
 },
 "nbformat": 4,
 "nbformat_minor": 5
}
